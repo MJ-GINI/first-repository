{
  "nbformat": 4,
  "nbformat_minor": 0,
  "metadata": {
    "colab": {
      "provenance": [],
      "include_colab_link": true
    },
    "kernelspec": {
      "name": "python3",
      "display_name": "Python 3"
    },
    "language_info": {
      "name": "python"
    }
  },
  "cells": [
    {
      "cell_type": "markdown",
      "metadata": {
        "id": "view-in-github",
        "colab_type": "text"
      },
      "source": [
        "<a href=\"https://colab.research.google.com/github/MJ-GINI/first-repository/blob/master/BaseballGamePractice.ipynb\" target=\"_parent\"><img src=\"https://colab.research.google.com/assets/colab-badge.svg\" alt=\"Open In Colab\"/></a>"
      ]
    },
    {
      "cell_type": "code",
      "execution_count": 6,
      "metadata": {
        "id": "iRiWC0rP-msk",
        "colab": {
          "base_uri": "https://localhost:8080/"
        },
        "outputId": "ef2f70aa-f2e1-4741-f608-39e447fc73aa"
      },
      "outputs": [
        {
          "output_type": "stream",
          "name": "stdout",
          "text": [
            "숫자 야구 게임 시작! (정답은 다섯 자리 숫자)\n",
            "다섯 자리 숫자를 입력하세요.: 12345\n",
            "0 strike 3 ball\n",
            "다시 시도하세요!\n",
            "다섯 자리 숫자를 입력하세요.: 31267\n",
            "1 strike 1 ball\n",
            "다시 시도하세요!\n",
            "다섯 자리 숫자를 입력하세요.: 34179\n",
            "4 strike 0 ball\n",
            "다시 시도하세요!\n",
            "다섯 자리 숫자를 입력하세요.: 34125\n",
            "2 strike 1 ball\n",
            "다시 시도하세요!\n",
            "다섯 자리 숫자를 입력하세요.: 34795\n",
            "2 strike 3 ball\n",
            "거의 다 맞췄어요😲!(2 strike, 3 ball)\n",
            "다섯 자리 숫자를 입력하세요.: 34579\n",
            "5 strike 0 ball\n",
            "정답입니다 🎉 게임 종료!\n"
          ]
        }
      ],
      "source": [
        "#숫자 야구 게임 연습\n",
        "answer = [ 3, 4, 5, 7, 9 ]\n",
        "\n",
        "print(\"숫자 야구 게임 시작! (정답은 다섯 자리 숫자)\")\n",
        "\n",
        "#무한 반복 (정답 맞히면 탈출)\n",
        "while True:\n",
        "  user_input=input(\"다섯 자리 숫자를 입력하세요.: \")\n",
        "\n",
        "  guess = []\n",
        "  guess.append(int(user_input[0]))\n",
        "  guess.append(int(user_input[1]))\n",
        "  guess.append(int(user_input[2]))\n",
        "  guess.append(int(user_input[3]))\n",
        "  guess.append(int(user_input[4]))\n",
        "\n",
        "  strike = 0\n",
        "  ball = 0\n",
        "\n",
        "  for i in range(5):\n",
        "    if guess[i] == answer[i]:\n",
        "      strike = strike + 1\n",
        "    elif guess[i] in answer:\n",
        "      ball = ball + 1\n",
        "\n",
        "  #결과 출력\n",
        "  print(strike, \"strike\", ball, \"ball\")\n",
        "\n",
        "  #모든 자리가 정답이면 while 종료\n",
        "  if strike == 5:\n",
        "    print(\"정답입니다 🎉 게임 종료!\")\n",
        "    break\n",
        "  elif strike == 2 and ball == 3:\n",
        "    print(\"거의 다 맞췄어요😲!(2 strike, 3 ball)\")\n",
        "  else:\n",
        "    print(\"다시 시도하세요!\")\n",
        "\n",
        "\n",
        "#첫 번째 퀘스트 실습 회고\n",
        "#이미현: 지수님과 페어로 숫자 야구 게임 연습 코드를 작성했는데, 처음엔 막막했지만 지피티의 도움을 받아도 이해가 어려운 조건문/명령어는 함께 고민도 해보고 결과 출력문은 나름 한단계 발전 시켜서 조금 뿌듯했던 시간이었습니다.\n",
        "#김지수: 너무 어렵게 하지 않고 코드 하나하나 이해해가면서 미현님과 함께 프로그램을 만들 수 있어서 의미 있는 시간이었습니다."
      ]
    }
  ]
}