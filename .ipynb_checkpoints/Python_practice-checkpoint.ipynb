{
 "cells": [
  {
   "cell_type": "code",
   "execution_count": 2,
   "id": "435ce812",
   "metadata": {},
   "outputs": [
    {
     "data": {
      "text/plain": [
       "set()"
      ]
     },
     "execution_count": 2,
     "metadata": {},
     "output_type": "execute_result"
    }
   ],
   "source": [
    "a = set()\n",
    "a"
   ]
  },
  {
   "cell_type": "code",
   "execution_count": 3,
   "id": "fcb4cb1a",
   "metadata": {},
   "outputs": [
    {
     "data": {
      "text/plain": [
       "{'china', 'japan', 'korea'}"
      ]
     },
     "execution_count": 3,
     "metadata": {},
     "output_type": "execute_result"
    }
   ],
   "source": [
    "asia = {'korea', 'japan', 'china', 'korea'}\n",
    "asia"
   ]
  },
  {
   "cell_type": "code",
   "execution_count": 4,
   "id": "d2e66e0e",
   "metadata": {},
   "outputs": [
    {
     "data": {
      "text/plain": [
       "dict"
      ]
     },
     "execution_count": 4,
     "metadata": {},
     "output_type": "execute_result"
    }
   ],
   "source": [
    "a = {}\n",
    "type(a)"
   ]
  },
  {
   "cell_type": "code",
   "execution_count": 7,
   "id": "3d801c6e",
   "metadata": {},
   "outputs": [
    {
     "data": {
      "text/plain": [
       "{2, 3, 4, 6, 8, 9, 10, 12, 15}"
      ]
     },
     "execution_count": 7,
     "metadata": {},
     "output_type": "execute_result"
    }
   ],
   "source": [
    "a = {2, 4, 6, 8, 10, 12}  # 2의 배수\n",
    "b = {3, 6, 9, 12, 15}     # 3의 배수\n",
    "a|b"
   ]
  },
  {
   "cell_type": "code",
   "execution_count": 8,
   "id": "93bad5d5",
   "metadata": {},
   "outputs": [
    {
     "data": {
      "text/plain": [
       "{2, 3, 4, 6, 8, 9, 10, 12, 15}"
      ]
     },
     "execution_count": 8,
     "metadata": {},
     "output_type": "execute_result"
    }
   ],
   "source": [
    "a = {2, 4, 6, 8, 10, 12}  # 2의 배수\n",
    "b = {3, 6, 9, 12, 15}     # 3의 배수\n",
    "a.union(b)"
   ]
  },
  {
   "cell_type": "code",
   "execution_count": 9,
   "id": "a2b09962",
   "metadata": {},
   "outputs": [
    {
     "data": {
      "text/plain": [
       "{6, 12}"
      ]
     },
     "execution_count": 9,
     "metadata": {},
     "output_type": "execute_result"
    }
   ],
   "source": [
    "a = {2, 4, 6, 8, 10, 12}  # 2의 배수\n",
    "b = {3, 6, 9, 12, 15}     # 3의 배수\n",
    "a&b"
   ]
  },
  {
   "cell_type": "code",
   "execution_count": 10,
   "id": "945330b8",
   "metadata": {},
   "outputs": [
    {
     "data": {
      "text/plain": [
       "{6, 12}"
      ]
     },
     "execution_count": 10,
     "metadata": {},
     "output_type": "execute_result"
    }
   ],
   "source": [
    "a = {2, 4, 6, 8, 10, 12}  # 2의 배수\n",
    "b = {3, 6, 9, 12, 15}     # 3의 배수\n",
    "a.intersection(b)"
   ]
  },
  {
   "cell_type": "code",
   "execution_count": 11,
   "id": "83e0b1e7",
   "metadata": {},
   "outputs": [
    {
     "data": {
      "text/plain": [
       "{2, 4, 8, 10}"
      ]
     },
     "execution_count": 11,
     "metadata": {},
     "output_type": "execute_result"
    }
   ],
   "source": [
    "a = {2, 4, 6, 8, 10, 12}  # 2의 배수\n",
    "b = {3, 6, 9, 12, 15}     # 3의 배수\n",
    "a-b"
   ]
  },
  {
   "cell_type": "code",
   "execution_count": 12,
   "id": "fb35647d",
   "metadata": {},
   "outputs": [
    {
     "data": {
      "text/plain": [
       "{2, 4, 8, 10}"
      ]
     },
     "execution_count": 12,
     "metadata": {},
     "output_type": "execute_result"
    }
   ],
   "source": [
    "a = {2, 4, 6, 8, 10, 12}  # 2의 배수\n",
    "b = {3, 6, 9, 12, 15}     # 3의 배수\n",
    "a.difference(b)"
   ]
  },
  {
   "cell_type": "code",
   "execution_count": 13,
   "id": "4ee0ef81",
   "metadata": {},
   "outputs": [
    {
     "data": {
      "text/plain": [
       "{2, 3, 4, 8, 9, 10, 15}"
      ]
     },
     "execution_count": 13,
     "metadata": {},
     "output_type": "execute_result"
    }
   ],
   "source": [
    "a = {2, 4, 6, 8, 10, 12}  # 2의 배수\n",
    "b = {3, 6, 9, 12, 15}     # 3의 배수\n",
    "a^b"
   ]
  },
  {
   "cell_type": "code",
   "execution_count": 14,
   "id": "c88bf0f4",
   "metadata": {},
   "outputs": [
    {
     "data": {
      "text/plain": [
       "{2, 3, 4, 8, 9, 10, 15}"
      ]
     },
     "execution_count": 14,
     "metadata": {},
     "output_type": "execute_result"
    }
   ],
   "source": [
    "a = {2, 4, 6, 8, 10, 12}  # 2의 배수\n",
    "b = {3, 6, 9, 12, 15}     # 3의 배수\n",
    "a.symmetric_difference(b)"
   ]
  },
  {
   "cell_type": "code",
   "execution_count": 15,
   "id": "5c3fea8c",
   "metadata": {},
   "outputs": [
    {
     "data": {
      "text/plain": [
       "{1, 2, 3, '넷'}"
      ]
     },
     "execution_count": 15,
     "metadata": {},
     "output_type": "execute_result"
    }
   ],
   "source": [
    "a = {1,2,3}\n",
    "a.add('넷')\n",
    "a"
   ]
  },
  {
   "cell_type": "code",
   "execution_count": 16,
   "id": "dc8d423f",
   "metadata": {},
   "outputs": [
    {
     "data": {
      "text/plain": [
       "{1, 2, 3, 4, 5, 6}"
      ]
     },
     "execution_count": 16,
     "metadata": {},
     "output_type": "execute_result"
    }
   ],
   "source": [
    "a = set([6,5,4])\n",
    "a.update({1,3,2})\n",
    "a"
   ]
  },
  {
   "cell_type": "code",
   "execution_count": 17,
   "id": "e1b7294f",
   "metadata": {},
   "outputs": [
    {
     "data": {
      "text/plain": [
       "{1, 2, 3, 5, 6}"
      ]
     },
     "execution_count": 17,
     "metadata": {},
     "output_type": "execute_result"
    }
   ],
   "source": [
    "a = {1,2,3,4,5,6}\n",
    "a.remove(4)\n",
    "a"
   ]
  },
  {
   "cell_type": "code",
   "execution_count": 1,
   "id": "ca72aec0",
   "metadata": {},
   "outputs": [
    {
     "data": {
      "text/plain": [
       "2"
      ]
     },
     "execution_count": 1,
     "metadata": {},
     "output_type": "execute_result"
    }
   ],
   "source": [
    "6 % 4"
   ]
  },
  {
   "cell_type": "code",
   "execution_count": 2,
   "id": "40d85e25",
   "metadata": {},
   "outputs": [
    {
     "name": "stdout",
     "output_type": "stream",
     "text": [
      "짝수입니다.\n"
     ]
    }
   ],
   "source": [
    "x = 4\n",
    "if x % 2 == 0:\n",
    "    print(\"짝수입니다.\")"
   ]
  },
  {
   "cell_type": "code",
   "execution_count": 3,
   "id": "3e11c4fd",
   "metadata": {},
   "outputs": [
    {
     "name": "stdout",
     "output_type": "stream",
     "text": [
      "짝수입니다.\n"
     ]
    }
   ],
   "source": [
    "x = 4\n",
    "if x % 2 == 0:\n",
    "    print(\"짝수입니다.\")\n",
    "else:\n",
    "    print(\"홀수입니다.\")"
   ]
  },
  {
   "cell_type": "code",
   "execution_count": 4,
   "id": "823948c3",
   "metadata": {},
   "outputs": [
    {
     "name": "stdout",
     "output_type": "stream",
     "text": [
      "홀수입니다.\n"
     ]
    }
   ],
   "source": [
    "x = 3\n",
    "if x % 2 == 0:\n",
    "    print(\"짝수입니다.\")\n",
    "else:\n",
    "    print(\"홀수입니다.\")"
   ]
  },
  {
   "cell_type": "code",
   "execution_count": 5,
   "id": "045cb40c",
   "metadata": {},
   "outputs": [
    {
     "name": "stdout",
     "output_type": "stream",
     "text": [
      "2와 5의 배수가 아닙니다.\n"
     ]
    }
   ],
   "source": [
    "x = 7\n",
    "if x % 10 == 0:\n",
    "    print(\"10의 배수입니다.\")\n",
    "elif x % 2 == 0 or x % 5 == 0:\n",
    "    print(\"2 또는 5의 배수입니다.\")\n",
    "else:\n",
    "    print(\"2와 5의 배수가 아닙니다.\")"
   ]
  },
  {
   "cell_type": "code",
   "execution_count": 2,
   "id": "e40fdd1f",
   "metadata": {},
   "outputs": [
    {
     "name": "stdout",
     "output_type": "stream",
     "text": [
      "꽈배기  10 개 있습니다.\n",
      "주문 개수 : 6\n",
      "남은 꽈배기는  4 개 입니다.\n",
      "*************************\n",
      "꽈배기  4 개 있습니다.\n",
      "주문 개수 : 2\n",
      "남은 꽈배기는  2 개 입니다.\n",
      "*************************\n",
      "꽈배기  2 개 있습니다.\n",
      "주문 개수 : 2\n",
      "남은 꽈배기는  0 개 입니다.\n",
      "*************************\n",
      "꽈배기 품절입니다.\n"
     ]
    }
   ],
   "source": [
    "korean_pretzel = 10\n",
    "while korean_pretzel:\n",
    "    print('꽈배기 ', korean_pretzel, '개 있습니다.')\n",
    "    order = int(input('주문 개수 : '))\n",
    "    korean_pretzel -= order\n",
    "    print('남은 꽈배기는 ', korean_pretzel, '개 입니다.')\n",
    "    print('*'*25)\n",
    "    if korean_pretzel <= 0:\n",
    "        print(\"꽈배기 품절입니다.\")\n",
    "        break"
   ]
  },
  {
   "cell_type": "code",
   "execution_count": 3,
   "id": "d6027b51",
   "metadata": {},
   "outputs": [
    {
     "name": "stdout",
     "output_type": "stream",
     "text": [
      "1\n"
     ]
    }
   ],
   "source": [
    "a = 0\n",
    "while a < 10:\n",
    "    a += 1\n",
    "    if a % 2 == 0:\n",
    "        break\n",
    "    print(a)"
   ]
  },
  {
   "cell_type": "code",
   "execution_count": null,
   "id": "3d83023a",
   "metadata": {},
   "outputs": [],
   "source": []
  }
 ],
 "metadata": {
  "kernelspec": {
   "display_name": "Python 3 (ipykernel)",
   "language": "python",
   "name": "python3"
  },
  "language_info": {
   "codemirror_mode": {
    "name": "ipython",
    "version": 3
   },
   "file_extension": ".py",
   "mimetype": "text/x-python",
   "name": "python",
   "nbconvert_exporter": "python",
   "pygments_lexer": "ipython3",
   "version": "3.9.7"
  }
 },
 "nbformat": 4,
 "nbformat_minor": 5
}
